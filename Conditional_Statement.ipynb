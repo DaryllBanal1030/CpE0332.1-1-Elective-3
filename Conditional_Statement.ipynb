{
  "nbformat": 4,
  "nbformat_minor": 0,
  "metadata": {
    "colab": {
      "provenance": [],
      "authorship_tag": "ABX9TyNVzkmnrLb91M1P4gFszPko",
      "include_colab_link": true
    },
    "kernelspec": {
      "name": "python3",
      "display_name": "Python 3"
    },
    "language_info": {
      "name": "python"
    }
  },
  "cells": [
    {
      "cell_type": "markdown",
      "metadata": {
        "id": "view-in-github",
        "colab_type": "text"
      },
      "source": [
        "<a href=\"https://colab.research.google.com/github/DaryllBanal1030/CpE0332.1-1-Elective-3/blob/main/Conditional_Statement.ipynb\" target=\"_parent\"><img src=\"https://colab.research.google.com/assets/colab-badge.svg\" alt=\"Open In Colab\"/></a>"
      ]
    },
    {
      "cell_type": "markdown",
      "source": [
        "If Statement"
      ],
      "metadata": {
        "id": "B7tE4tSBCRmu"
      }
    },
    {
      "cell_type": "code",
      "source": [
        "a = 12\n",
        "b = 100\n",
        "\n",
        "if a<b:\n",
        "  print('a is less than b')"
      ],
      "metadata": {
        "colab": {
          "base_uri": "https://localhost:8080/"
        },
        "id": "fmObjXgoCTkj",
        "outputId": "f7da0f9e-e645-4eff-da37-aad47bcdc414"
      },
      "execution_count": 7,
      "outputs": [
        {
          "output_type": "stream",
          "name": "stdout",
          "text": [
            "a is less than b\n"
          ]
        }
      ]
    },
    {
      "cell_type": "markdown",
      "source": [
        "Elif Statement"
      ],
      "metadata": {
        "id": "wVUV-vxTCqFX"
      }
    },
    {
      "cell_type": "code",
      "source": [
        "age = input('Enter your age: ')\n",
        "age = int(age)\n",
        "if age>=18:\n",
        "  print('You are qualified to get a license')\n",
        "elif age<18:\n",
        "  print('You are not qualified to get a license')"
      ],
      "metadata": {
        "colab": {
          "base_uri": "https://localhost:8080/"
        },
        "id": "M-ati1n1Cr-a",
        "outputId": "11940c98-3acf-4523-94af-245930b4578c"
      },
      "execution_count": 11,
      "outputs": [
        {
          "output_type": "stream",
          "name": "stdout",
          "text": [
            "Enter your age: 19\n",
            "You are qualified to get a license\n"
          ]
        }
      ]
    },
    {
      "cell_type": "markdown",
      "source": [
        "Else Statement"
      ],
      "metadata": {
        "id": "rtqYalUyEmSk"
      }
    },
    {
      "cell_type": "code",
      "source": [
        "\n",
        "x = int(input(\"Enter an integer: \"))\n",
        "if x>0:\n",
        "  print('Positive')\n",
        "elif x<0:\n",
        "  print('Negative')\n",
        "else:\n",
        "  print('Zero')"
      ],
      "metadata": {
        "colab": {
          "base_uri": "https://localhost:8080/"
        },
        "id": "XoH65913EoRn",
        "outputId": "0b8ee69d-43a4-4479-fc44-c99e291c0ade"
      },
      "execution_count": 13,
      "outputs": [
        {
          "output_type": "stream",
          "name": "stdout",
          "text": [
            "Enter an integer: 1\n",
            "Positive\n"
          ]
        }
      ]
    },
    {
      "cell_type": "markdown",
      "source": [
        "short hand if else statement"
      ],
      "metadata": {
        "id": "xAbBouFtGkzY"
      }
    },
    {
      "cell_type": "code",
      "source": [
        "print (\"a is greater than b\") if a>b else print(\"b is greater than a\")"
      ],
      "metadata": {
        "colab": {
          "base_uri": "https://localhost:8080/"
        },
        "id": "Np7nyRJZGU-u",
        "outputId": "9f159db3-b883-48c6-ccd2-8141313fa287"
      },
      "execution_count": 14,
      "outputs": [
        {
          "output_type": "stream",
          "name": "stdout",
          "text": [
            "b is greater than a\n"
          ]
        }
      ]
    },
    {
      "cell_type": "markdown",
      "source": [
        "And Statements"
      ],
      "metadata": {
        "id": "EFd1JdzrGvQ6"
      }
    },
    {
      "cell_type": "code",
      "source": [
        "\n",
        "if a<b and c>a:\n",
        "  print('Both conditions are True')"
      ],
      "metadata": {
        "colab": {
          "base_uri": "https://localhost:8080/"
        },
        "id": "RWSzB2kPGuiT",
        "outputId": "760a57b4-472f-4d13-cd0e-71d6c52f49ed"
      },
      "execution_count": 19,
      "outputs": [
        {
          "output_type": "stream",
          "name": "stdout",
          "text": [
            "Both conditions are True\n"
          ]
        }
      ]
    },
    {
      "cell_type": "markdown",
      "source": [
        "Nested If Statement"
      ],
      "metadata": {
        "id": "jbC58vDFH0Tg"
      }
    },
    {
      "cell_type": "code",
      "source": [
        "x = int(input(\"Enter an integer: \"))\n",
        "if x>10:\n",
        "  print('Above ten,')\n",
        "  if x>20:\n",
        "    print('and also above 20!')\n",
        "  if x>25:\n",
        "    print('and also above 25!')\n",
        "  if x>40:\n",
        "    print('and also above 40!')\n",
        "  else:\n",
        "    print('but not above 20.')"
      ],
      "metadata": {
        "colab": {
          "base_uri": "https://localhost:8080/"
        },
        "id": "ITyT5QbOH1-8",
        "outputId": "347404f6-7a86-4e45-d28f-a80b3b289592"
      },
      "execution_count": 22,
      "outputs": [
        {
          "output_type": "stream",
          "name": "stdout",
          "text": [
            "Enter an integer: 39\n",
            "Above ten,\n",
            "and also above 20!\n",
            "and also above 25!\n",
            "but not above 20.\n"
          ]
        }
      ]
    },
    {
      "cell_type": "markdown",
      "source": [
        "Application 2\n",
        "Write a program to determine if the grades are:\n",
        "\n",
        "\tIf:\n",
        "\t\t grade > = 75 , “Passed”\n",
        "\t\tgrade = 74, “Remedial”\n",
        "\t\tgrade < 74, “Failed”\n",
        "\t\tnote: if grade is a negative number, it will not accepted\n"
      ],
      "metadata": {
        "id": "eX2xYEwBLKC7"
      }
    },
    {
      "cell_type": "code",
      "source": [
        "grade = float(input(\"Enter your grade: \"))\n",
        "\n",
        "if grade < 0:\n",
        "  print(\"Invalid grade.\")\n",
        "elif grade >= 75:\n",
        "  print(\"Passed\")\n",
        "elif grade == 74:\n",
        "  print(\"Remedial\")\n",
        "else:\n",
        "  print(\"Failed\")\n"
      ],
      "metadata": {
        "colab": {
          "base_uri": "https://localhost:8080/"
        },
        "id": "mPDOuxXcMV3z",
        "outputId": "8bb124e1-4030-4474-889f-5a3751ebfab4"
      },
      "execution_count": 23,
      "outputs": [
        {
          "output_type": "stream",
          "name": "stdout",
          "text": [
            "Enter your grade: -1\n",
            "Invalid grade.\n"
          ]
        }
      ]
    }
  ]
}
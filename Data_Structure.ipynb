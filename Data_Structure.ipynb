{
  "nbformat": 4,
  "nbformat_minor": 0,
  "metadata": {
    "colab": {
      "provenance": [],
      "authorship_tag": "ABX9TyMb7Zo8DW58ueNAhRJTqK2P",
      "include_colab_link": true
    },
    "kernelspec": {
      "name": "python3",
      "display_name": "Python 3"
    },
    "language_info": {
      "name": "python"
    }
  },
  "cells": [
    {
      "cell_type": "markdown",
      "metadata": {
        "id": "view-in-github",
        "colab_type": "text"
      },
      "source": [
        "<a href=\"https://colab.research.google.com/github/DaryllBanal1030/CpE0332.1-1-Elective-3/blob/main/Data_Structure.ipynb\" target=\"_parent\"><img src=\"https://colab.research.google.com/assets/colab-badge.svg\" alt=\"Open In Colab\"/></a>"
      ]
    },
    {
      "cell_type": "markdown",
      "source": [
        "Variables and Data Types"
      ],
      "metadata": {
        "id": "LxgVATt7D882"
      }
    },
    {
      "cell_type": "code",
      "source": [
        "#Python uses five standard data types\n",
        "\n",
        "#Numbers\n",
        "varNum = 123\n",
        "pi = 3.14159\n",
        "\n",
        "#Strings\n",
        "varString = \"Hello World!\"\n",
        "varText = \"This is a string\"\n",
        "\n",
        "#Lists\n",
        "varList = [\"abc\", 123]\n",
        "\n",
        "#Tuples\n",
        "varTuple = (\"abc\", 123)\n",
        "\n",
        "#Dictionaries\n",
        "var = 3\n",
        "varDict = {'first':1, '2':'2nd', 3:var}\n",
        "\n",
        "varDict = {}\n",
        "varDict['first'] = 1\n",
        "varDict['2'] = '2nd'\n",
        "varDict['3'] = var\n",
        "\n",
        "print(varDict)"
      ],
      "metadata": {
        "colab": {
          "base_uri": "https://localhost:8080/"
        },
        "id": "w7cSXC3qEAem",
        "outputId": "dcf83549-f341-444b-e01d-7b4949266dca"
      },
      "execution_count": null,
      "outputs": [
        {
          "output_type": "stream",
          "name": "stdout",
          "text": [
            "{'first': 1, '2': '2nd', '3': 3}\n"
          ]
        }
      ]
    },
    {
      "cell_type": "markdown",
      "source": [
        "Arithmetic"
      ],
      "metadata": {
        "id": "sF8DMsGPE1k2"
      }
    },
    {
      "cell_type": "code",
      "source": [
        "#Arithmetic\n",
        "\n",
        "#Addition\n",
        "\n",
        "a = 5 + 3\n",
        "print(a)\n",
        "\n",
        "#Subtraction\n",
        "\n",
        "a = 5 - 3\n",
        "print(a)\n",
        "\n",
        "#Multiplication\n",
        "\n",
        "a = 5 * 3\n",
        "print(a)\n",
        "\n",
        "#Exponent\n",
        "\n",
        "a = 5 ** 3\n",
        "print(a)\n",
        "\n",
        "#Division\n",
        "\n",
        "a = 5 / 3\n",
        "print(a)\n",
        "\n",
        "#Modulus\n",
        "\n",
        "a = 5 % 3\n",
        "print(a)\n",
        "\n",
        "#Increment/Decrement\n",
        "\n",
        "a = 5\n",
        "a += 1\n",
        "print(a)\n",
        "\n",
        "a = 5\n",
        "a -= 1\n",
        "print(a)\n",
        "\n",
        "a = 5\n",
        "a *= 2\n",
        "print(a)\n",
        "\n",
        "a = 5\n",
        "a /= 2\n",
        "print(a)\n",
        "\n",
        "#String Concatenation\n",
        "\n",
        "a = \"Hello \" + \"World!\"\n",
        "print(a)\n",
        "\n",
        "#String Multiplication\n",
        "\n",
        "a = \"Hello \" * 3\n",
        "print(a)\n",
        "\n",
        "#Complex Expressions\n",
        "\n",
        "a = 3 + 5 - 6 * 2 / 4\n",
        "print(a)\n"
      ],
      "metadata": {
        "colab": {
          "base_uri": "https://localhost:8080/"
        },
        "id": "KzxZyWDjE3Ru",
        "outputId": "6d8c49f8-0303-438f-d0ab-1da2e30f0210"
      },
      "execution_count": null,
      "outputs": [
        {
          "output_type": "stream",
          "name": "stdout",
          "text": [
            "8\n",
            "2\n",
            "15\n",
            "125\n",
            "1.6666666666666667\n",
            "2\n",
            "6\n",
            "4\n",
            "10\n",
            "2.5\n",
            "Hello World!\n",
            "Hello Hello Hello \n",
            "5.0\n"
          ]
        }
      ]
    },
    {
      "cell_type": "markdown",
      "source": [
        "Conditional Statements"
      ],
      "metadata": {
        "id": "5iOZOMjfFJym"
      }
    },
    {
      "cell_type": "code",
      "source": [
        "#Boolean Conditions\n",
        "\n",
        "x = True\n",
        "\n",
        "if x:\n",
        "    print(\"var is True\")\n",
        "else:\n",
        "    print(\"var is False\")\n",
        "\n",
        "#String Conditions\n",
        "\n",
        "x = \"Hello World!\"\n",
        "if x == \"Hello World!\":\n",
        "    print(\"var x is Hello World!\")\n",
        "else:\n",
        "    print(\"var x is not Hello World!\")\n",
        "\n",
        "#Numberical Conditions\n",
        "\n",
        "x = 10\n",
        "if x == '10':\n",
        "    print(\"var x is a string\")\n",
        "elif x == 10:\n",
        "    print(\"var x is an integer\")\n",
        "else:\n",
        "    print(\"var x is none of the above\")"
      ],
      "metadata": {
        "colab": {
          "base_uri": "https://localhost:8080/"
        },
        "id": "XE660vj0Fiim",
        "outputId": "92df3bbf-65d5-492c-e1ee-7bb2a2c8abcf"
      },
      "execution_count": null,
      "outputs": [
        {
          "output_type": "stream",
          "name": "stdout",
          "text": [
            "var is True\n",
            "var x is Hello World!\n",
            "var x is an integer\n"
          ]
        }
      ]
    },
    {
      "cell_type": "markdown",
      "source": [
        "Loops"
      ],
      "metadata": {
        "id": "WAkC_REgGJkm"
      }
    },
    {
      "cell_type": "code",
      "source": [
        "#Loops\n",
        "\n",
        "#For Loops\n",
        "\n",
        "for var in range(0, 5, 2):\n",
        "    print(var)\n",
        "\n",
        "#While Loops\n",
        "\n",
        "var = 0\n",
        "while var < 5:\n",
        "    print(var)\n",
        "    var += 2\n",
        "\n",
        "#Nested Loops\n",
        "x = 0\n",
        "while x < 5:\n",
        "    for y in range(0, x):\n",
        "        print(y, end='')\n",
        "    x+=1\n",
        "    print()\n"
      ],
      "metadata": {
        "colab": {
          "base_uri": "https://localhost:8080/"
        },
        "id": "8hFvZsZVGKym",
        "outputId": "20d0cf0f-5b84-467c-c434-1d901f0cc276"
      },
      "execution_count": null,
      "outputs": [
        {
          "output_type": "stream",
          "name": "stdout",
          "text": [
            "0\n",
            "2\n",
            "4\n",
            "0\n",
            "2\n",
            "4\n",
            "\n",
            "0\n",
            "01\n",
            "012\n",
            "0123\n"
          ]
        }
      ]
    },
    {
      "cell_type": "markdown",
      "source": [
        "Functions"
      ],
      "metadata": {
        "id": "_uzhhEanGfMO"
      }
    },
    {
      "cell_type": "code",
      "source": [
        "#Functions are defined with the keyword def\n",
        "\n",
        "def remainder(n, m):\n",
        "  while True:\n",
        "    if n - m < 0:\n",
        "      return n\n",
        "    n = n - m\n",
        "\n",
        "remainder(10, 4)"
      ],
      "metadata": {
        "colab": {
          "base_uri": "https://localhost:8080/"
        },
        "id": "kz-ljHkAGgZe",
        "outputId": "ec0b0d3c-845d-4fd9-95bb-b1c0a816cc06"
      },
      "execution_count": null,
      "outputs": [
        {
          "output_type": "execute_result",
          "data": {
            "text/plain": [
              "2"
            ]
          },
          "metadata": {},
          "execution_count": 15
        }
      ]
    },
    {
      "cell_type": "markdown",
      "source": [
        "Lists"
      ],
      "metadata": {
        "id": "7HN4ygdOGsEO"
      }
    },
    {
      "cell_type": "code",
      "source": [
        "#Lists starts with an index of 0.\n",
        "#The remove() method erases the first value that matches the parameter\n",
        "\n",
        "pi = 3.141592653589793238462643\n",
        "varlist = [1, 2, 'A', 'B', 'Hello!', pi]\n",
        "print(varlist[0])\n",
        "print(varlist[1])\n",
        "print(varlist[2])\n",
        "print(varlist[3])\n",
        "print(varlist[4])\n",
        "print(varlist[5])"
      ],
      "metadata": {
        "colab": {
          "base_uri": "https://localhost:8080/"
        },
        "id": "TwLFcsnRGtHl",
        "outputId": "d3507011-4d03-4556-e3b7-270b7e020700"
      },
      "execution_count": null,
      "outputs": [
        {
          "output_type": "stream",
          "name": "stdout",
          "text": [
            "1\n",
            "2\n",
            "A\n",
            "B\n",
            "Hello!\n",
            "3.141592653589793\n"
          ]
        }
      ]
    },
    {
      "cell_type": "markdown",
      "source": [
        "Dictionaries"
      ],
      "metadata": {
        "id": "X9oFL_zoHFk-"
      }
    },
    {
      "cell_type": "code",
      "source": [
        "#Dictionaries\n",
        "\n",
        "var = \"Hello World!\"\n",
        "varDict = {'first':123, 2:'abc', '3':var, 4:['lista', 'listb']}\n",
        "print(varDict['first'])\n",
        "print(varDict[2])\n",
        "print(varDict['3'])\n",
        "print(varDict[4])\n",
        "\n",
        "print(varDict[4][1])\n",
        "len(varDict)"
      ],
      "metadata": {
        "colab": {
          "base_uri": "https://localhost:8080/"
        },
        "id": "amPE69vgHJu-",
        "outputId": "69bcf718-1c5a-4e9e-8a6a-0e444f70b07a"
      },
      "execution_count": null,
      "outputs": [
        {
          "output_type": "stream",
          "name": "stdout",
          "text": [
            "123\n",
            "abc\n",
            "Hello World!\n",
            "['lista', 'listb']\n",
            "listb\n"
          ]
        },
        {
          "output_type": "execute_result",
          "data": {
            "text/plain": [
              "4"
            ]
          },
          "metadata": {},
          "execution_count": 27
        }
      ]
    },
    {
      "cell_type": "markdown",
      "source": [
        "List Generators and Comprehenson"
      ],
      "metadata": {
        "id": "0DIeF5luHvWG"
      }
    },
    {
      "cell_type": "code",
      "source": [
        "def gen_num_up_to(n):\n",
        "    num = 0\n",
        "    while num <= n:\n",
        "        yield num\n",
        "        num += 1\n",
        "\n",
        "gen_num_up_to(5)\n",
        "varlist = gen_num_up_to(5)\n",
        "print([var for var in varList])\n",
        "\n",
        "def gen_num_up_to(n):\n",
        "    num = 0\n",
        "    while num < n:\n",
        "        yield num\n",
        "        num += 2\n",
        "varList = gen_num_up_to(5)\n",
        "print([var for var in varList])"
      ],
      "metadata": {
        "colab": {
          "base_uri": "https://localhost:8080/"
        },
        "id": "KcXaZSX3Hzcu",
        "outputId": "81eefc3f-74b7-4e3b-dee8-fc035e103c84"
      },
      "execution_count": null,
      "outputs": [
        {
          "output_type": "stream",
          "name": "stdout",
          "text": [
            "['abc', 123]\n",
            "[0, 2, 4]\n"
          ]
        }
      ]
    },
    {
      "cell_type": "markdown",
      "source": [
        "Slicing"
      ],
      "metadata": {
        "id": "eZTY7jnvIk22"
      }
    },
    {
      "cell_type": "code",
      "source": [
        "#Slicing\n",
        "\n",
        "varList =[1,2,3,4,5,6,7,8,9,10]\n",
        "print(varList[:5])\n",
        "print(varList[5:])\n",
        "print(varList[:-2])\n",
        "print(varList[-2:])\n",
        "print(varList[2:-2])\n",
        "print(varList[2:9])\n",
        "print(varList[2:9:2])"
      ],
      "metadata": {
        "colab": {
          "base_uri": "https://localhost:8080/"
        },
        "id": "hDEptYmMIll2",
        "outputId": "6bed3d61-2ad0-42bc-d8f7-ed50adffe8ed"
      },
      "execution_count": null,
      "outputs": [
        {
          "output_type": "stream",
          "name": "stdout",
          "text": [
            "[1, 2, 3, 4, 5]\n",
            "[6, 7, 8, 9, 10]\n",
            "[1, 2, 3, 4, 5, 6, 7, 8]\n",
            "[9, 10]\n",
            "[3, 4, 5, 6, 7, 8]\n",
            "[3, 4, 5, 6, 7, 8, 9]\n",
            "[3, 5, 7, 9]\n"
          ]
        }
      ]
    }
  ]
}